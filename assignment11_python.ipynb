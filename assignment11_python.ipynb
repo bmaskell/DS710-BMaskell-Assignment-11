{
 "cells": [
  {
   "cell_type": "markdown",
   "metadata": {},
   "source": [
    "<img src=\"https://datasciencedegree.wisconsin.edu/wp-content/themes/data-gulp/images/logo.svg\" width=\"300\">\n"
   ]
  },
  {
   "cell_type": "markdown",
   "metadata": {},
   "source": [
    "# Assignment 11\n",
    "\n",
    "This assignment is probably the most involved yet.  You will process a large file through Python, and then pass it to R for statistical analysis.\n",
    "\n",
    "We will analyze Amazon reviews to determine what characteristics make them most helpful."
   ]
  },
  {
   "cell_type": "markdown",
   "metadata": {},
   "source": [
    "## Problem 1(a).  Reading Amazon Reviews.\n",
    "\n",
    "🎯 Download the file of Amazon gourmet food reviews from the [Stanford Large Network Dataset Collection](https://snap.stanford.edu/data/web-FineFoods.html).   (Your computer may already have a utility installed that can unzip the archive as a text file; if not, [7-zip](http://www.7-zip.org/) is a useful utility for Windows. You can also use an online utility by doing a web search for: ``open .gz files online``.)\n",
    "\n",
    "🎯 Create a pandas DataFrame object with the following entries for each review:\n",
    "\n",
    "1. Product ID\n",
    "2. Number of people who voted this review helpful\n",
    "3. Total number of people who rated this review\n",
    "4. Reviewer's score rating of the product\n",
    "5. Text of the review -- this will be dropped before you write your data file and port to R.\n",
    "\n",
    "For the second and third of these, the information will be given in the file as ```1/5```, which would correspond to 1 vote for helpful out of 5 people who rated the review."
   ]
  },
  {
   "cell_type": "markdown",
   "metadata": {},
   "source": [
    "---\n",
    "\n",
    "###### Examples\n",
    "\n",
    "Consider this review:\n",
    "\n",
    "    product/productId: B001E4KFG0\n",
    "    review/userId: A3SGXH7AUHU8GW\n",
    "    review/profileName: delmartian\n",
    "    review/helpfulness: 1/1\n",
    "    review/score: 5.0\n",
    "    review/time: 1303862400\n",
    "    review/summary: Good Quality Dog Food\n",
    "    review/text: I have bought several of the Vitality canned dog food products and have found them all to be of good quality. The product looks more like a stew than a processed meat and it smells better. My Labrador is finicky and she appreciates this product better than  most.\n",
    "\n",
    "The fraction for `review/helpfulness` for delmartian's review here is 1/1.  One person voted on whether it was a helpful review, and that one person found it helpful.\n",
    "\n",
    "---\n",
    "\n",
    "    product/productId: B001GVISJM\n",
    "    review/userId: A2MUGFV2TDQ47K\n",
    "    review/profileName: Lynrie \"Oh HELL no\"\n",
    "    review/helpfulness: 4/5\n",
    "    review/score: 5.0\n",
    "    review/time: 1268352000\n",
    "    review/summary: Strawberry Twizzlers - Yummy\n",
    "    review/text: The Strawberry Twizzlers are my guilty pleasure - yummy. Six pounds will be around for a while with my son and I.\n",
    "\n",
    "This review was rated for helpfulness by a total of 5 people, but only four of them found it helpful -- the other person didn't think it was a useful review.\n",
    "\n",
    "---\n",
    "\n",
    "    product/productId: B001GVISJM\n",
    "    review/userId: A3IV7CL2C13K2U\n",
    "    review/profileName: Greg\n",
    "    review/helpfulness: 0/0\n",
    "    review/score: 5.0\n",
    "    review/time: 1318032000\n",
    "    review/summary: Home delivered twizlers\n",
    "    review/text: Candy was delivered very fast and was purchased at a reasonable price.  I was home bound and unable to get to a store so this was perfect for me.\n",
    "    \n",
    "Zero people voted on whether Greg's review was helpful.  Of these zero people, zero found it helpful. \n",
    "\n",
    "---\n",
    "\n",
    "###### Notes\n",
    "\n",
    "I strongly suggest that you take some smaller portion of the file off the top for testing and development.  On a Mac, in the [terminal](https://www.macworld.co.uk/feature/mac-software/how-use-terminal-on-mac-3608274/), change directories to the location of this repo, and run\n",
    "\n",
    "    head -n 500 finefoods.csv > finefoods_test.csv\n",
    "    \n",
    "But, change that 500 to some number such that you don't have a broken review at the bottom!  Windows students, use the [Powershell](https://en.wikipedia.org/wiki/PowerShell). (regular old `cmd` is terrible)\n",
    "\n",
    "---\n",
    "\n",
    "Here are the first 10 reviews, correctly parsed:\n",
    "\n",
    "![first_10](first_10.jpg)"
   ]
  },
  {
   "cell_type": "code",
   "execution_count": 1,
   "metadata": {},
   "outputs": [],
   "source": [
    "import pandas as pd \n",
    "import numpy as np\n",
    "\n",
    "fileLoc = \"C:/Users/benja/OneDrive/Documents/GitHub/ds710fall2018assignment11/foods.txt\"\n",
    "\n",
    "with open (fileLoc) as food_file:\n",
    "\n",
    "    dict_list = []\n",
    "    column_names = [\"Num_helpful\", \"Num_voters\",\"Review_text\",\"Product_ID\",\"Review_score\"]\n",
    "    prodID = \"\" \n",
    "    numvot = \"\"\n",
    "    numhelp = \"\"\n",
    "    revscore = \"\"\n",
    "    revtxt = \"\"\n",
    "    \n",
    "    \n",
    "    for line in food_file:\n",
    "        \n",
    "        nextLine = food_file.readline()\n",
    "        \n",
    "        \n",
    "        numhelpStart = nextLine.find('review/helpfulness:')\n",
    "        prodStart = nextLine.find('product/productId:')\n",
    "        reviewStart = nextLine.find('review/text:')\n",
    "        scoreStart = nextLine.find('review/score:')\n",
    "        \n",
    "        if numhelpStart != -1:\n",
    "            if numhelp:\n",
    "                dict_list.append(dict(zip(column_names, [numhelp, numvot, revtxt, prodID, revscore])))\n",
    "            forboth = nextLine.strip(\"review/helpfulness: \")\n",
    "            sep = '/'\n",
    "            numhelp = forboth.split(sep, 1)[0]\n",
    "            numhelp = numhelp.strip()\n",
    "            numvot = forboth.split(sep, 1)[1]\n",
    "            numvot = numvot.strip()\n",
    "        elif reviewStart != -1:\n",
    "            revtxt = nextLine.strip(\"review/text: \")\n",
    "            revtxt = revtxt.rstrip()\n",
    "        elif prodStart != -1:\n",
    "            prodID = nextLine.strip(\"product/productId: \")\n",
    "            prodID = prodID.strip()\n",
    "        elif scoreStart != -1:\n",
    "            revscore = nextLine.strip(\"review/score: \")\n",
    "            revscore = revscore.rstrip()\n",
    "            revscore = eval(revscore)\n",
    "\n",
    "food_df = pd.DataFrame(dict_list)             "
   ]
  },
  {
   "cell_type": "markdown",
   "metadata": {},
   "source": [
    "## Problem 1(b).  Analyzing review text.\n",
    "\n",
    "🎯 Add columns to your DataFrame for \n",
    "* the length of a review, \n",
    "* the number of exclamation points in a review, and \n",
    "* the fraction of people who rated a review helpful. \n",
    "\n",
    "###### Notes \n",
    "\n",
    "You should calculate the fraction who rated a review helpful using two of the columns you made in part 1a.  \n",
    "* You must convert from text fractions to floating point numbers.  For example, a ratio of 1 helpful rating out of 5 total ratings should be entered as 0.2, not the string ```1/5```.  This floating point number must not be rounded.\n",
    "* If no people voted on whether a problem was helpful, the corresponding entry in your percentage helpful column should be ```NaN```.  0/0 should generally turn into a `nan` when computing."
   ]
  },
  {
   "cell_type": "code",
   "execution_count": 2,
   "metadata": {},
   "outputs": [],
   "source": [
    "food_df['Review_length'] = food_df[\"Review_text\"].apply(len)\n",
    "\n",
    "food_df['num_exclamations'] = food_df[\"Review_text\"].apply(lambda x: x.count(\"!\"))\n",
    "\n",
    "food_df['fract_help'] = food_df['Num_helpful'].astype(float) / food_df['Num_voters'].astype(float)"
   ]
  },
  {
   "cell_type": "markdown",
   "metadata": {},
   "source": [
    "## Problem 1(c).  Summary statistics.\n",
    "\n",
    "🎯 Compute these using Python:\n",
    "\n",
    "1. How many reviews are in the data set?  \n",
    "2. What is the average length of a review (in characters)?  \n",
    "3. What is the average rating?  \n",
    "4. What is the greatest number of exclamation marks used in a single review?  \n",
    "\n",
    "Use the pandas package to answer these questions."
   ]
  },
  {
   "cell_type": "code",
   "execution_count": 3,
   "metadata": {},
   "outputs": [
    {
     "data": {
      "text/plain": [
       "71"
      ]
     },
     "execution_count": 3,
     "metadata": {},
     "output_type": "execute_result"
    }
   ],
   "source": [
    "food_df.describe(include=['object'])\n",
    "#There are 217227 unique reviews in the data frame\n",
    "\n",
    "food_df['Review_length'].mean()\n",
    "#The average character length of a review is 435.72 characters\n",
    "\n",
    "food_df['Review_score'].mean()\n",
    "#The average rating is 4.18\n",
    "\n",
    "food_df['num_exclamations'].max()\n",
    "#The greatest number of exclamation marks used in a review is 71        \n"
   ]
  },
  {
   "cell_type": "markdown",
   "metadata": {},
   "source": [
    "## Problem 1(d).  Export.\n",
    "\n",
    "🎯 Save your DataFrame as a `.csv` file suitable for future analysis in R.  \n",
    "\n",
    "###### Requirements\n",
    "\n",
    "* Your .csv file must not include the review text column, as the presence of commas and quotation marks will make reading the file difficult.  \n",
    "* You should also convert entries from ```NaN``` to the empty string before saving."
   ]
  },
  {
   "cell_type": "code",
   "execution_count": 4,
   "metadata": {},
   "outputs": [],
   "source": [
    "food_df = food_df.replace(np.nan, '', regex=True)\n",
    "food_df.to_csv('food_pandas.csv', columns=[\"Num_helpful\", \"Num_voters\", \"Product_ID\", \"Review_score\", \"Review_length\", \"num_exclamations\", \"fract_help\"],  index = False)"
   ]
  },
  {
   "cell_type": "code",
   "execution_count": null,
   "metadata": {},
   "outputs": [],
   "source": []
  }
 ],
 "metadata": {
  "kernelspec": {
   "display_name": "Python 3",
   "language": "python",
   "name": "python3"
  },
  "language_info": {
   "codemirror_mode": {
    "name": "ipython",
    "version": 3
   },
   "file_extension": ".py",
   "mimetype": "text/x-python",
   "name": "python",
   "nbconvert_exporter": "python",
   "pygments_lexer": "ipython3",
   "version": "3.6.5"
  }
 },
 "nbformat": 4,
 "nbformat_minor": 1
}
